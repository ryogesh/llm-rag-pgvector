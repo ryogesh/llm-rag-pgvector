{
 "cells": [
  {
   "cell_type": "code",
   "execution_count": 1,
   "id": "f5f52427",
   "metadata": {},
   "outputs": [],
   "source": [
    "import gradio as gr\n",
    "from coreutils import LLMOps"
   ]
  },
  {
   "cell_type": "code",
   "execution_count": 2,
   "id": "36e740ec",
   "metadata": {},
   "outputs": [],
   "source": [
    "%%capture --no-stdout \n",
    "llm = LLMOps()"
   ]
  },
  {
   "cell_type": "code",
   "execution_count": 4,
   "id": "cda51ac7",
   "metadata": {},
   "outputs": [
    {
     "data": {
      "text/html": [
       "<div><iframe src=\"http://127.0.0.1:7861/\" width=\"100%\" height=\"1300\" allow=\"autoplay; camera; microphone; clipboard-read; clipboard-write;\" frameborder=\"0\" allowfullscreen></iframe></div>"
      ],
      "text/plain": [
       "<IPython.core.display.HTML object>"
      ]
     },
     "metadata": {},
     "output_type": "display_data"
    },
    {
     "data": {
      "text/plain": []
     },
     "execution_count": 4,
     "metadata": {},
     "output_type": "execute_result"
    }
   ],
   "source": [
    "%%capture --no-display\n",
    "    \n",
    "#define gradio interface and other parameters\n",
    "with gr.Blocks() as app:    \n",
    "    gr.Markdown(f\"# {llm.pipeline.model.model._get_name()}\")\n",
    "    with gr.Row():\n",
    "        with gr.Column():\n",
    "            input = gr.Textbox(label=\"Question\", show_copy_button=True)\n",
    "            qrycontext = gr.Dropdown([\"ANSWER\", \"CONTEXT\", \"BOTH\"], value=\"BOTH\",\n",
    "                                     label=\"Response Type\", info=\"LLM answer only, with context(RAG) or Both\")\n",
    "        with gr.Column():\n",
    "            slider = gr.Slider(1, 10, value=7, label=\"Randomness\", show_label=True,\n",
    "                               step=1, info=\"Best between 5-8. High values can generate diverse texts.\")\n",
    "        submit_btn = gr.Button(\"submit\")\n",
    "    with gr.Row():\n",
    "        with gr.Column():\n",
    "            ans = gr.Textbox(label=\"Answer\", show_copy_button=True)\n",
    "        with gr.Column():\n",
    "            cntxt = gr.Textbox(label=\"Answer with context\", show_copy_button=True)\n",
    "\n",
    "    submit_btn.click(fn=llm.mdl_ui_response, \n",
    "                     inputs=[input, slider, qrycontext], \n",
    "                     outputs=[ans, cntxt])\n",
    "app.load(show_progress=\"minimal\")        \n",
    "app.launch(share=False, quiet=True, show_api=False, height=1300, show_error=True, )"
   ]
  },
  {
   "cell_type": "code",
   "execution_count": null,
   "id": "77c6240a",
   "metadata": {},
   "outputs": [],
   "source": []
  }
 ],
 "metadata": {
  "kernelspec": {
   "display_name": "Python 3 (ipykernel)",
   "language": "python",
   "name": "python3"
  },
  "language_info": {
   "codemirror_mode": {
    "name": "ipython",
    "version": 3
   },
   "file_extension": ".py",
   "mimetype": "text/x-python",
   "name": "python",
   "nbconvert_exporter": "python",
   "pygments_lexer": "ipython3",
   "version": "3.10.13"
  }
 },
 "nbformat": 4,
 "nbformat_minor": 5
}
